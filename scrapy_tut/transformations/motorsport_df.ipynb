{
 "cells": [
  {
   "cell_type": "markdown",
   "id": "f7d1284d",
   "metadata": {},
   "source": [
    "## To check if the raw data format may not be decoded with utf-8"
   ]
  },
  {
   "cell_type": "code",
   "execution_count": 4,
   "id": "ffb7c75a",
   "metadata": {},
   "outputs": [],
   "source": [
    "import os\n",
    "import pandas as pd\n",
    "import numpy as np\n",
    "import chardet"
   ]
  },
  {
   "cell_type": "code",
   "execution_count": 3,
   "id": "b50ad86d",
   "metadata": {},
   "outputs": [
    {
     "name": "stdout",
     "output_type": "stream",
     "text": [
      "c:\\Zhan Hui\\Projects\\Web Scraping with Scrapy\\scrapy_tut\\transformations\n"
     ]
    }
   ],
   "source": [
    "curr_dir = os.getcwd()\n",
    "print(curr_dir)"
   ]
  },
  {
   "cell_type": "code",
   "execution_count": 6,
   "id": "41d7d6a6",
   "metadata": {},
   "outputs": [
    {
     "name": "stdout",
     "output_type": "stream",
     "text": [
      "Detected encoding: utf-8\n"
     ]
    }
   ],
   "source": [
    "raw_file_path = os.path.join(curr_dir, os.pardir, 'csv_output')\n",
    "motorsport_file_path = os.path.join(raw_file_path, 'motorsport_output.csv')\n",
    "with open(motorsport_file_path, 'rb') as f:\n",
    "    data = f.read(100000)\n",
    "    result = chardet.detect(data)\n",
    "    encoding = result['encoding']\n",
    "    print(f\"Detected encoding: {encoding}\")"
   ]
  },
  {
   "cell_type": "code",
   "execution_count": 7,
   "id": "034334c7",
   "metadata": {},
   "outputs": [
    {
     "data": {
      "text/html": [
       "<div>\n",
       "<style scoped>\n",
       "    .dataframe tbody tr th:only-of-type {\n",
       "        vertical-align: middle;\n",
       "    }\n",
       "\n",
       "    .dataframe tbody tr th {\n",
       "        vertical-align: top;\n",
       "    }\n",
       "\n",
       "    .dataframe thead th {\n",
       "        text-align: right;\n",
       "    }\n",
       "</style>\n",
       "<table border=\"1\" class=\"dataframe\">\n",
       "  <thead>\n",
       "    <tr style=\"text-align: right;\">\n",
       "      <th></th>\n",
       "      <th>article_type</th>\n",
       "      <th>title</th>\n",
       "      <th>article_description</th>\n",
       "      <th>authors</th>\n",
       "      <th>url</th>\n",
       "      <th>content</th>\n",
       "      <th>original_datetime</th>\n",
       "      <th>updated_datetime</th>\n",
       "    </tr>\n",
       "  </thead>\n",
       "  <tbody>\n",
       "    <tr>\n",
       "      <th>0</th>\n",
       "      <td>Special feature</td>\n",
       "      <td>Eddie Jordan: Formula 1's great disruptor</td>\n",
       "      <td>Doing more with less, creating something out o...</td>\n",
       "      <td>Stuart Codling</td>\n",
       "      <td>https://www.motorsport.com/f1/news/eddie-jorda...</td>\n",
       "      <td>Pull the 21 April 1988 edition of Autosport fr...</td>\n",
       "      <td>2025-03-20T14:09:02Z</td>\n",
       "      <td>2025-03-20T14:09:02Z</td>\n",
       "    </tr>\n",
       "    <tr>\n",
       "      <th>1</th>\n",
       "      <td>Special feature</td>\n",
       "      <td>The top 10 moments of Eddie Jordan's motorspor...</td>\n",
       "      <td>Following the news of Eddie Jordan’s death at ...</td>\n",
       "      <td>Kevin Turner</td>\n",
       "      <td>https://www.motorsport.com/f1/news/the-top-10-...</td>\n",
       "      <td>Eddie Jordan Racing became a big player in jun...</td>\n",
       "      <td>2025-03-29T11:42:25Z</td>\n",
       "      <td>2025-03-29T11:42:25Z</td>\n",
       "    </tr>\n",
       "    <tr>\n",
       "      <th>2</th>\n",
       "      <td>Special feature</td>\n",
       "      <td>A challenging Suzuka corner’s hidden history</td>\n",
       "      <td>Ever wondered why the Honda-owned circuit has ...</td>\n",
       "      <td>Stuart Codling</td>\n",
       "      <td>https://www.motorsport.com/f1/news/degner-suzu...</td>\n",
       "      <td>‘Spoon’, ‘130R’, ‘Hairpin’, ‘S Curves’. The co...</td>\n",
       "      <td>2025-04-03T09:48:13Z</td>\n",
       "      <td>2025-04-03T09:48:13Z</td>\n",
       "    </tr>\n",
       "    <tr>\n",
       "      <th>3</th>\n",
       "      <td>Special feature</td>\n",
       "      <td>Two out of three: The Japanese F1 drivers who ...</td>\n",
       "      <td>Yuki Tsunoda, the 19th Japanese driver to reac...</td>\n",
       "      <td>Fabien Gaillard</td>\n",
       "      <td>https://www.motorsport.com/f1/news/two-out-of-...</td>\n",
       "      <td>It’s been a long time since a Japanese driver ...</td>\n",
       "      <td>2025-04-02T17:31:04Z</td>\n",
       "      <td>2025-04-02T17:31:04Z</td>\n",
       "    </tr>\n",
       "    <tr>\n",
       "      <th>4</th>\n",
       "      <td>Special feature</td>\n",
       "      <td>Norris knows how to win a championship, now he...</td>\n",
       "      <td>Lando Norris is heading for the most important...</td>\n",
       "      <td>Ben Hunt</td>\n",
       "      <td>https://www.motorsport.com/f1/news/norris-know...</td>\n",
       "      <td>Lando Norris is sitting in the temporary McLar...</td>\n",
       "      <td>2025-03-12T16:33:50Z</td>\n",
       "      <td>2025-03-12T16:33:50Z</td>\n",
       "    </tr>\n",
       "  </tbody>\n",
       "</table>\n",
       "</div>"
      ],
      "text/plain": [
       "      article_type                                              title  \\\n",
       "0  Special feature          Eddie Jordan: Formula 1's great disruptor   \n",
       "1  Special feature  The top 10 moments of Eddie Jordan's motorspor...   \n",
       "2  Special feature       A challenging Suzuka corner’s hidden history   \n",
       "3  Special feature  Two out of three: The Japanese F1 drivers who ...   \n",
       "4  Special feature  Norris knows how to win a championship, now he...   \n",
       "\n",
       "                                 article_description          authors  \\\n",
       "0  Doing more with less, creating something out o...   Stuart Codling   \n",
       "1  Following the news of Eddie Jordan’s death at ...     Kevin Turner   \n",
       "2  Ever wondered why the Honda-owned circuit has ...   Stuart Codling   \n",
       "3  Yuki Tsunoda, the 19th Japanese driver to reac...  Fabien Gaillard   \n",
       "4  Lando Norris is heading for the most important...         Ben Hunt   \n",
       "\n",
       "                                                 url  \\\n",
       "0  https://www.motorsport.com/f1/news/eddie-jorda...   \n",
       "1  https://www.motorsport.com/f1/news/the-top-10-...   \n",
       "2  https://www.motorsport.com/f1/news/degner-suzu...   \n",
       "3  https://www.motorsport.com/f1/news/two-out-of-...   \n",
       "4  https://www.motorsport.com/f1/news/norris-know...   \n",
       "\n",
       "                                             content     original_datetime  \\\n",
       "0  Pull the 21 April 1988 edition of Autosport fr...  2025-03-20T14:09:02Z   \n",
       "1  Eddie Jordan Racing became a big player in jun...  2025-03-29T11:42:25Z   \n",
       "2  ‘Spoon’, ‘130R’, ‘Hairpin’, ‘S Curves’. The co...  2025-04-03T09:48:13Z   \n",
       "3  It’s been a long time since a Japanese driver ...  2025-04-02T17:31:04Z   \n",
       "4  Lando Norris is sitting in the temporary McLar...  2025-03-12T16:33:50Z   \n",
       "\n",
       "       updated_datetime  \n",
       "0  2025-03-20T14:09:02Z  \n",
       "1  2025-03-29T11:42:25Z  \n",
       "2  2025-04-03T09:48:13Z  \n",
       "3  2025-04-02T17:31:04Z  \n",
       "4  2025-03-12T16:33:50Z  "
      ]
     },
     "execution_count": 7,
     "metadata": {},
     "output_type": "execute_result"
    }
   ],
   "source": [
    "motorsport_df = pd.read_csv(motorsport_file_path, encoding=encoding)\n",
    "motorsport_df.head()"
   ]
  },
  {
   "cell_type": "code",
   "execution_count": 9,
   "id": "04285a7a",
   "metadata": {},
   "outputs": [
    {
     "name": "stdout",
     "output_type": "stream",
     "text": [
      "Empty DataFrame\n",
      "Columns: [article_type, title, article_description, authors, url, content, original_datetime, updated_datetime]\n",
      "Index: []\n"
     ]
    }
   ],
   "source": [
    "weird_chars = ['â€™', 'â€œ', 'â€\\x9d', 'â€“', 'Ã©', 'â€˜']\n",
    "mask = motorsport_df.astype(str).apply(lambda x: x.str.contains('|'.join(weird_chars), na=False))\n",
    "df_weird = motorsport_df[mask.any(axis=1)]\n",
    "\n",
    "print(df_weird)"
   ]
  },
  {
   "cell_type": "code",
   "execution_count": 10,
   "id": "6d198bfd",
   "metadata": {},
   "outputs": [
    {
     "name": "stdout",
     "output_type": "stream",
     "text": [
      "Pull the 21 April 1988 edition of Autosport from the archives and you’ll find an image of Johnny Herbert , arm aloft in triumph, crossing the finishing line in the opening round of the International F3000 season at Jerez. In a stark visual echo of the white border around the photo, Johnny’s Eddie Jordan Racing-entered Reynard 88D is also almost completely white, bereft of sponsor logos but for an Avon Tyres sticker on the front-wing endplate and a Camel cigarettes banner on the sidepod. Camel wasn’t even an EJR sponsor at that point. In fact, it had turned down Jordan’s approaches. Eddie’s response was to borrow Camel stickers from the Italian First Racing team, put them on his car anyway, then pester Autosport editor Peter Foubister to feature it on the cover. Given the dearth of F1 developments – just 16 grands prix a year in those days, and here we were in the one-week gap between rounds one and two – ‘Foub’ needed little in the way of arm-twisting to splash a young British talent on the cover, driving Reynard’s first F3000 chassis to its maiden victory on debut. EJ then toed Camel sponsorship director Duncan Lee’s door open again, brandished the cover, and said “See what I can do for you…” In Formula 1 Camel was sponsoring Lotus, which had just lost Ayrton Senna to McLaren . His replacement, Nelson Piquet, had achieved little of note during the season-opening Brazilian Grand Prix apart from finishing over a minute off the winner and publicly accusing Senna of being a homosexual. It was the perfect time to offer an alternative, and some better publicity. Next time out, in Vallelunga, Herbert’s car was painted yellow and carried large paid-for Camel decals. Eddie’s official F3000 entry was Eddie Jordan Racing Benetton Junior Team. This was more EJ blarney: Herbert had tested a Benetton F1 car and been offered a race seat by team manager Peter Collins, only for that to be vetoed by the Benetton family, who thought Johnny should do a year in F3000 first. Having Johnny race in a green Benetton Formula suit made the arrangement seem rather more connected than it was. Ever since the world championship began in 1950, F1 has provided an irresistible lure to the full spectrum of rogues. Unlike many of them, Eddie Jordan was no crook – although he could be, in the words of the late Alan Clark, “economical with the actualite” while playing the game of smoke and mirrors. What separated him from the morass of time-wasters, mountebanks and the-cheque’s-in-the-post merchants to have tried to break into F1 was that he succeeded – and stayed in the game without leaving much in the way of collateral damage, broken promises and unpaid debts. It would be wrong to say Jordan blazed a trail for teams coming from the junior ladder to the pinnacle of motor racing, since others (such as Toleman/Benetton, Minardi, Coloni, Zakspeed, etc) had done it first. And none of the teams which tried to follow his lead (the likes of Pacific and a slew of short-lived Italian F3000 outfits) stuck it out for long or got there at all. EJ made the seemingly impossible possible through his boundless extrovert energy, allied to commercial savvy. The Camel F3000 deal was a prime example of how he could convert a knock-back into an opportunity. At the time, Eddie Jordan Racing occupied premises near Silverstone which had once housed pigs which grazed on a nearby farm. While F1 was a long way from being the kind of sporting category which launches its season with a sell-out show in a London arena, Eddie understood he needed more razzle-dazzle to attract sponsors Eddie’s unique style could be an acquired taste – Ron Dennis took some time to warm to him – since the torrent of blarney was often only pseudo-grammatical and came freighted with expletives and cheeky vulgarity. Picture the reaction of the Honda executives in the late 1990s when he theatrically produced a Viagra pill during a meeting and exclaimed: “What your engine needs is some of this!” No commercial mountain was too high to put him off. Initially Jordan saw his way into F1 via an acquisition of the struggling Team Lotus with Camel money – a deal structured along the lines of the shotgun marriage engineered by Marlboro between Dennis’s Project 4 and McLaren a decade earlier. This was a long shot, despite Eddie’s success in ensuring Jean Alesi filled the vacancy created when Michele Alboreto parted ways with Tyrrell in the summer of 1989 (accounts differ as to whether a sponsor clash was the reason, or Alboreto kicking off when team-mate Jonathan Palmer was given Tyrrell’s new car before him). Team Lotus soldiered on without Eddie and he was left to mull over the possibility of setting up an F1 project using his own money, from his other business interests plus F3 and F3000 winnings. The contrast between public and private Eddie Jordan remains fascinating. He went ahead anyway but, in his later autobiography An Independent Man , he shared his misgivings at the time, born of watching fellow F3000 team boss Mike Earle struggle to keep Onyx afloat in F1 with unreliable title sponsor Moneytron. “I found that you could look at positives until you were blue in the face but you needed to have a balance in order to be realistic,” he wrote. “This was not about talking a carpet dealer into putting a sticker on your Formula Ford car. “This was commitment on a massive scale that would involve not just your livelihood but the livelihoods of others who would come to depend on you.” At the time, Eddie Jordan Racing occupied premises near Silverstone which had once housed pigs which grazed on a nearby farm. While F1 was a long way from being the kind of sporting category which launches its season with a sell-out show in a London arena, Eddie understood he needed more razzle-dazzle to attract sponsors. He needed a car. And he needed to build it before he had the means to pay to race it. Eddie persuaded engineer-designer Gary Anderson to move over from Reynard’s F3000 project, followed by Andrew Green and Mark Smith. What they brought, apart from determination, was experience in building a car to a price. As an unexpected extra, Anderson and Green brought Ford’s V8 engine into the picture courtesy of a chance encounter with Cosworth’s Bernard Ferguson when they popped into a pub for lunch. The neat-looking 911 (as it was originally known) was ready to test in October, a pair of blisters on each side of the engine cover attesting to the car originally having been designed with a different V8 in mind. Ulsterman John Watson was roped into testing it on a cold day at Silverstone, and he reported what the car’s eventual race drivers would confirm: it was neat, nimble, well-balanced and easy to drive. It was also unpainted because Jordan still had no sponsors. Camel backed out and went to Benetton instead. Jordan had been talking to Kodak, hoping its yellow branding would have synergies to Camel’s colours… that fell through too. After a stingingly critical response from the media to the car being launched with no livery or sponsorship, Eddie decided to paint it a patriotic Irish green and set off to wangle wonga from companies with that in their branding, no matter how large or small. Pepsico’s 7-Up brand was a key target but it ‘only’ had $2million in the coffers after committing to sponsor Michael Jackson’s forthcoming Dangerous world tour. Eddie then flew to Japan and besieged the Fujifilm offices, suggesting he was on the cusp of doing a deal with its key rival, Kodak. Complete fiction at that point but enough to close the sale. That and another sticker deal with the Irish Tourism Board – plenty of government largesse and tax breaks were being aimed at tech companies looking to open European bases – made the finances look healthier. Two paying drivers, Andrea de Cesaris and Bertrand Gachot, completed the picture. Jordan’s 1991 season presented two contrasting pictures: in public, a surprising level of success as the new team outperformed its peers on track, in private a downwards spiral of debt only partially staved off by Mercedes underwriting Michael Schumacher ’s cameo appearance in Belgium. The end of the 7-Up and Fuji deals left Jordan without significant sponsorship going into 1992. As Jordan’s team consolidated its competitive position in F1’s midfield, Eddie built his brand proposition: the cheeky outsider And yet Eddie was often at his best when his back was against the wall: Sasol, the South African petrochemical company, had a fistful of government cash to promote itself abroad, and all the teams above Jordan in the constructors’ table were already spoken for. But the schism which had developed with Ford over late payment meant Eddie had to look elsewhere for power, leading him to Yamaha. The Japanese company had announced it would go into production with a new supercar, the OX99, and was willing to pay an F1 team to run its V12. Jordan signed a four-year deal but it was destined to end after one as the V12 proved underpowered and hopelessly unreliable, and its sheer bulk hindered the car’s balance. Many other teams would have folded, having scored just one point all year, but the core personnel remained and EJ truffle-hunted more new partners for next year: a V10 built by Brian Hart, promising Brazilian rookie Rubens Barrichello with a changing cast of paying drivers in the second car, and a slightly muddled livery allowing for the presence of multiple smaller sponsors. The scenario of hand-to-mouth racing prevailed until 1996, when EJ landed the transformative Benson & Hedges sponsorship. A subsequent swap from gold to yellow paint kept the cars on-brand and looked better on TV, too. As Jordan’s team consolidated its competitive position in F1’s midfield, Eddie built his brand proposition: the cheeky outsider. Snake eyes painted on the nose complemented the ‘Bitten Hisses’ decals which Jordan used to creatively circumvent tobacco advertising restrictions in certain territories. The likes of Ron Dennis continued to look down their noses at the team with one of the smallest and least architecturally impressive factories in the business. To Ron, busy plotting his multi-million pound steel-and-glass palace outside Woking, this fell short of the values F1 was now seeking to embrace. As for all the frivolity and rock ‘n’ roll… highly sub-optimal. Eddie stayed in the F1 game for 14 years before the headwinds grew too strong. Having sold out he was a rich man, but it’s said he wept and declared himself a failure on the day the deal was signed. Perhaps the constructors’ championship was the one that got away, but no other team has notched up four grand prix wins while spending as little as possible. As F1 looks towards a future where every team becomes a billion-dollar franchise, even the outfit Eddie’s team became has embraced the principle of spend-to-win. As EJ himself would say: “Yer bollix…”\n"
     ]
    }
   ],
   "source": [
    "print(motorsport_df['content'][0])"
   ]
  },
  {
   "cell_type": "markdown",
   "id": "5d3a2169",
   "metadata": {},
   "source": [
    "Conclusion: The code is fine, just reading on Excel will result in the appearance of characters that seem to be from different encoding than utf-8"
   ]
  }
 ],
 "metadata": {
  "kernelspec": {
   "display_name": "scrapy_tut",
   "language": "python",
   "name": "python3"
  },
  "language_info": {
   "codemirror_mode": {
    "name": "ipython",
    "version": 3
   },
   "file_extension": ".py",
   "mimetype": "text/x-python",
   "name": "python",
   "nbconvert_exporter": "python",
   "pygments_lexer": "ipython3",
   "version": "3.12.2"
  }
 },
 "nbformat": 4,
 "nbformat_minor": 5
}
